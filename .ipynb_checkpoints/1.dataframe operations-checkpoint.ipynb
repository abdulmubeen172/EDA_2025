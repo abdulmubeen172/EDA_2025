{
 "cells": [
  {
   "cell_type": "markdown",
   "id": "9279e6c2-633d-4ceb-bea8-6f295de88e22",
   "metadata": {},
   "source": [
    "# step 1 : import the data packagaes"
   ]
  },
  {
   "cell_type": "code",
   "execution_count": 1,
   "id": "0ea1b149-5517-4ab1-a752-e4c67e082553",
   "metadata": {},
   "outputs": [],
   "source": [
    "import numpy as np   # numbericalsL maths oprns\n",
    "import pandas as pd  # tables and data frame operations\n",
    "import matplotlib.pyplot as plt  # plotting\n",
    "import seaborn as sns   # plotting"
   ]
  },
  {
   "cell_type": "markdown",
   "id": "cf992e2f-f2e8-4347-ad40-7ead11efc295",
   "metadata": {},
   "source": [
    "# step 2 : Create a dataframe using list"
   ]
  },
  {
   "cell_type": "code",
   "execution_count": 2,
   "id": "187876fd-b384-4f46-ab5e-e89ff3376623",
   "metadata": {},
   "outputs": [
    {
     "data": {
      "text/html": [
       "<div>\n",
       "<style scoped>\n",
       "    .dataframe tbody tr th:only-of-type {\n",
       "        vertical-align: middle;\n",
       "    }\n",
       "\n",
       "    .dataframe tbody tr th {\n",
       "        vertical-align: top;\n",
       "    }\n",
       "\n",
       "    .dataframe thead th {\n",
       "        text-align: right;\n",
       "    }\n",
       "</style>\n",
       "<table border=\"1\" class=\"dataframe\">\n",
       "  <thead>\n",
       "    <tr style=\"text-align: right;\">\n",
       "      <th></th>\n",
       "      <th>0</th>\n",
       "    </tr>\n",
       "  </thead>\n",
       "  <tbody>\n",
       "    <tr>\n",
       "      <th>34</th>\n",
       "      <td>Mallesh</td>\n",
       "    </tr>\n",
       "    <tr>\n",
       "      <th>2</th>\n",
       "      <td>chinna</td>\n",
       "    </tr>\n",
       "    <tr>\n",
       "      <th>456</th>\n",
       "      <td>ameen</td>\n",
       "    </tr>\n",
       "  </tbody>\n",
       "</table>\n",
       "</div>"
      ],
      "text/plain": [
       "           0\n",
       "34   Mallesh\n",
       "2     chinna\n",
       "456    ameen"
      ]
     },
     "execution_count": 2,
     "metadata": {},
     "output_type": "execute_result"
    }
   ],
   "source": [
    "l1=['Mallesh','chinna','ameen']\n",
    "l2=[34,2,456]\n",
    "pd.DataFrame(l1,l2)"
   ]
  },
  {
   "cell_type": "markdown",
   "id": "23a00051-c9d5-40d8-9d96-6bede132a699",
   "metadata": {},
   "source": [
    "- data=None,\n",
    "    - index: 'Axes | None' = None,\n",
    "    - columns: 'Axes | None' = None,\n",
    "    - dtype: 'Dtype | None' = None,\n",
    "    - copy: 'bool | None' = None"
   ]
  },
  {
   "cell_type": "code",
   "execution_count": 3,
   "id": "7b01587f-6934-4d7b-83c8-bbe7fa2bea76",
   "metadata": {},
   "outputs": [
    {
     "data": {
      "text/html": [
       "<div>\n",
       "<style scoped>\n",
       "    .dataframe tbody tr th:only-of-type {\n",
       "        vertical-align: middle;\n",
       "    }\n",
       "\n",
       "    .dataframe tbody tr th {\n",
       "        vertical-align: top;\n",
       "    }\n",
       "\n",
       "    .dataframe thead th {\n",
       "        text-align: right;\n",
       "    }\n",
       "</style>\n",
       "<table border=\"1\" class=\"dataframe\">\n",
       "  <thead>\n",
       "    <tr style=\"text-align: right;\">\n",
       "      <th></th>\n",
       "      <th>0</th>\n",
       "      <th>1</th>\n",
       "    </tr>\n",
       "  </thead>\n",
       "  <tbody>\n",
       "    <tr>\n",
       "      <th>0</th>\n",
       "      <td>Mallesh</td>\n",
       "      <td>34</td>\n",
       "    </tr>\n",
       "    <tr>\n",
       "      <th>1</th>\n",
       "      <td>chinna</td>\n",
       "      <td>2</td>\n",
       "    </tr>\n",
       "    <tr>\n",
       "      <th>2</th>\n",
       "      <td>ameen</td>\n",
       "      <td>456</td>\n",
       "    </tr>\n",
       "  </tbody>\n",
       "</table>\n",
       "</div>"
      ],
      "text/plain": [
       "         0    1\n",
       "0  Mallesh   34\n",
       "1   chinna    2\n",
       "2    ameen  456"
      ]
     },
     "execution_count": 3,
     "metadata": {},
     "output_type": "execute_result"
    }
   ],
   "source": [
    "l1=['Mallesh','chinna','ameen']\n",
    "l2=[34,2,456]\n",
    "pd.DataFrame(zip(l1,l2))"
   ]
  },
  {
   "cell_type": "markdown",
   "id": "9ebaced3-b3d8-41b5-a3a9-6a54767e95c3",
   "metadata": {},
   "source": [
    "\n",
    "# step-3 : add the columns names"
   ]
  },
  {
   "cell_type": "code",
   "execution_count": 4,
   "id": "1e092050-a25e-4738-a84a-c5d1873a8a29",
   "metadata": {},
   "outputs": [
    {
     "data": {
      "text/html": [
       "<div>\n",
       "<style scoped>\n",
       "    .dataframe tbody tr th:only-of-type {\n",
       "        vertical-align: middle;\n",
       "    }\n",
       "\n",
       "    .dataframe tbody tr th {\n",
       "        vertical-align: top;\n",
       "    }\n",
       "\n",
       "    .dataframe thead th {\n",
       "        text-align: right;\n",
       "    }\n",
       "</style>\n",
       "<table border=\"1\" class=\"dataframe\">\n",
       "  <thead>\n",
       "    <tr style=\"text-align: right;\">\n",
       "      <th></th>\n",
       "      <th>0</th>\n",
       "      <th>1</th>\n",
       "    </tr>\n",
       "  </thead>\n",
       "  <tbody>\n",
       "    <tr>\n",
       "      <th>0</th>\n",
       "      <td>Mallesh</td>\n",
       "      <td>34</td>\n",
       "    </tr>\n",
       "    <tr>\n",
       "      <th>1</th>\n",
       "      <td>chinna</td>\n",
       "      <td>2</td>\n",
       "    </tr>\n",
       "    <tr>\n",
       "      <th>2</th>\n",
       "      <td>ameen</td>\n",
       "      <td>456</td>\n",
       "    </tr>\n",
       "  </tbody>\n",
       "</table>\n",
       "</div>"
      ],
      "text/plain": [
       "         0    1\n",
       "0  Mallesh   34\n",
       "1   chinna    2\n",
       "2    ameen  456"
      ]
     },
     "execution_count": 4,
     "metadata": {},
     "output_type": "execute_result"
    }
   ],
   "source": [
    "l1=['Mallesh','chinna','ameen']\n",
    "l2=[34,2,456]\n",
    "l3=[l1,l2]\n",
    "pd.DataFrame(l3).T"
   ]
  },
  {
   "cell_type": "code",
   "execution_count": 5,
   "id": "48767384-3a92-4643-aec6-b5526d7f792d",
   "metadata": {},
   "outputs": [
    {
     "data": {
      "text/html": [
       "<div>\n",
       "<style scoped>\n",
       "    .dataframe tbody tr th:only-of-type {\n",
       "        vertical-align: middle;\n",
       "    }\n",
       "\n",
       "    .dataframe tbody tr th {\n",
       "        vertical-align: top;\n",
       "    }\n",
       "\n",
       "    .dataframe thead th {\n",
       "        text-align: right;\n",
       "    }\n",
       "</style>\n",
       "<table border=\"1\" class=\"dataframe\">\n",
       "  <thead>\n",
       "    <tr style=\"text-align: right;\">\n",
       "      <th></th>\n",
       "      <th>names</th>\n",
       "      <th>age</th>\n",
       "    </tr>\n",
       "  </thead>\n",
       "  <tbody>\n",
       "    <tr>\n",
       "      <th>0</th>\n",
       "      <td>Mallesh</td>\n",
       "      <td>34</td>\n",
       "    </tr>\n",
       "    <tr>\n",
       "      <th>1</th>\n",
       "      <td>chinna</td>\n",
       "      <td>2</td>\n",
       "    </tr>\n",
       "    <tr>\n",
       "      <th>2</th>\n",
       "      <td>ameen</td>\n",
       "      <td>456</td>\n",
       "    </tr>\n",
       "  </tbody>\n",
       "</table>\n",
       "</div>"
      ],
      "text/plain": [
       "     names  age\n",
       "0  Mallesh   34\n",
       "1   chinna    2\n",
       "2    ameen  456"
      ]
     },
     "execution_count": 5,
     "metadata": {},
     "output_type": "execute_result"
    }
   ],
   "source": [
    "l1=['Mallesh','chinna','ameen']\n",
    "l2=[34,2,456]\n",
    "pd.DataFrame(zip(l1,l2),columns=['names','age'])"
   ]
  },
  {
   "cell_type": "code",
   "execution_count": 6,
   "id": "1d14895a-9bef-4df0-8fce-65aef4f014b4",
   "metadata": {},
   "outputs": [
    {
     "data": {
      "text/html": [
       "<div>\n",
       "<style scoped>\n",
       "    .dataframe tbody tr th:only-of-type {\n",
       "        vertical-align: middle;\n",
       "    }\n",
       "\n",
       "    .dataframe tbody tr th {\n",
       "        vertical-align: top;\n",
       "    }\n",
       "\n",
       "    .dataframe thead th {\n",
       "        text-align: right;\n",
       "    }\n",
       "</style>\n",
       "<table border=\"1\" class=\"dataframe\">\n",
       "  <thead>\n",
       "    <tr style=\"text-align: right;\">\n",
       "      <th></th>\n",
       "      <th>0</th>\n",
       "      <th>1</th>\n",
       "    </tr>\n",
       "  </thead>\n",
       "  <tbody>\n",
       "    <tr>\n",
       "      <th>Names</th>\n",
       "      <td>Mallesh</td>\n",
       "      <td>34</td>\n",
       "    </tr>\n",
       "    <tr>\n",
       "      <th>age</th>\n",
       "      <td>chinna</td>\n",
       "      <td>2</td>\n",
       "    </tr>\n",
       "    <tr>\n",
       "      <th>school</th>\n",
       "      <td>ameen</td>\n",
       "      <td>456</td>\n",
       "    </tr>\n",
       "  </tbody>\n",
       "</table>\n",
       "</div>"
      ],
      "text/plain": [
       "              0    1\n",
       "Names   Mallesh   34\n",
       "age      chinna    2\n",
       "school    ameen  456"
      ]
     },
     "execution_count": 6,
     "metadata": {},
     "output_type": "execute_result"
    }
   ],
   "source": [
    "l1=['Mallesh','chinna','ameen']\n",
    "l2=[34,2,456]\n",
    "cols=['Names','age','school']\n",
    "pd.DataFrame(zip(l1,l2),cols)"
   ]
  },
  {
   "cell_type": "code",
   "execution_count": 7,
   "id": "9f6657eb-1ecd-4970-92cb-439c347b679c",
   "metadata": {},
   "outputs": [
    {
     "data": {
      "text/html": [
       "<div>\n",
       "<style scoped>\n",
       "    .dataframe tbody tr th:only-of-type {\n",
       "        vertical-align: middle;\n",
       "    }\n",
       "\n",
       "    .dataframe tbody tr th {\n",
       "        vertical-align: top;\n",
       "    }\n",
       "\n",
       "    .dataframe thead th {\n",
       "        text-align: right;\n",
       "    }\n",
       "</style>\n",
       "<table border=\"1\" class=\"dataframe\">\n",
       "  <thead>\n",
       "    <tr style=\"text-align: right;\">\n",
       "      <th></th>\n",
       "      <th>Names</th>\n",
       "      <th>age</th>\n",
       "    </tr>\n",
       "  </thead>\n",
       "  <tbody>\n",
       "    <tr>\n",
       "      <th>0</th>\n",
       "      <td>Mallesh</td>\n",
       "      <td>34</td>\n",
       "    </tr>\n",
       "    <tr>\n",
       "      <th>1</th>\n",
       "      <td>chinna</td>\n",
       "      <td>2</td>\n",
       "    </tr>\n",
       "    <tr>\n",
       "      <th>2</th>\n",
       "      <td>ameen</td>\n",
       "      <td>456</td>\n",
       "    </tr>\n",
       "  </tbody>\n",
       "</table>\n",
       "</div>"
      ],
      "text/plain": [
       "     Names  age\n",
       "0  Mallesh   34\n",
       "1   chinna    2\n",
       "2    ameen  456"
      ]
     },
     "execution_count": 7,
     "metadata": {},
     "output_type": "execute_result"
    }
   ],
   "source": [
    "l1=['Mallesh','chinna','ameen']\n",
    "l2=[34,2,456]\n",
    "cols=['Names','age']\n",
    "pd.DataFrame(zip(l1,l2),columns=cols)"
   ]
  },
  {
   "cell_type": "code",
   "execution_count": 8,
   "id": "b3186173-f651-4ca7-ba77-8fcba9d648cc",
   "metadata": {},
   "outputs": [
    {
     "data": {
      "text/html": [
       "<div>\n",
       "<style scoped>\n",
       "    .dataframe tbody tr th:only-of-type {\n",
       "        vertical-align: middle;\n",
       "    }\n",
       "\n",
       "    .dataframe tbody tr th {\n",
       "        vertical-align: top;\n",
       "    }\n",
       "\n",
       "    .dataframe thead th {\n",
       "        text-align: right;\n",
       "    }\n",
       "</style>\n",
       "<table border=\"1\" class=\"dataframe\">\n",
       "  <thead>\n",
       "    <tr style=\"text-align: right;\">\n",
       "      <th></th>\n",
       "      <th>Names</th>\n",
       "      <th>age</th>\n",
       "      <th>phone number</th>\n",
       "    </tr>\n",
       "  </thead>\n",
       "  <tbody>\n",
       "    <tr>\n",
       "      <th>a</th>\n",
       "      <td>Mallesh</td>\n",
       "      <td>34</td>\n",
       "      <td>987654321</td>\n",
       "    </tr>\n",
       "    <tr>\n",
       "      <th>b</th>\n",
       "      <td>chinna</td>\n",
       "      <td>2</td>\n",
       "      <td>1234567890</td>\n",
       "    </tr>\n",
       "    <tr>\n",
       "      <th>c</th>\n",
       "      <td>ameen</td>\n",
       "      <td>456</td>\n",
       "      <td>98765432123456</td>\n",
       "    </tr>\n",
       "  </tbody>\n",
       "</table>\n",
       "</div>"
      ],
      "text/plain": [
       "     Names  age    phone number\n",
       "a  Mallesh   34       987654321\n",
       "b   chinna    2      1234567890\n",
       "c    ameen  456  98765432123456"
      ]
     },
     "execution_count": 8,
     "metadata": {},
     "output_type": "execute_result"
    }
   ],
   "source": [
    "l1=['Mallesh','chinna','ameen']\n",
    "l2=[34,2,456]\n",
    "l3=[987654321,1234567890,98765432123456]\n",
    "cols=['Names','age','phone number']\n",
    "pd.DataFrame(zip(l1,l2,l3),index=['a','b','c'],columns=cols)"
   ]
  },
  {
   "cell_type": "code",
   "execution_count": 9,
   "id": "16b236cd-24e8-4a30-885e-e346cae2970b",
   "metadata": {},
   "outputs": [],
   "source": [
    "# step-4 indexing \n"
   ]
  },
  {
   "cell_type": "code",
   "execution_count": 10,
   "id": "dbb752de-ca5b-4c94-ac1f-cd965ba047af",
   "metadata": {},
   "outputs": [
    {
     "data": {
      "text/html": [
       "<div>\n",
       "<style scoped>\n",
       "    .dataframe tbody tr th:only-of-type {\n",
       "        vertical-align: middle;\n",
       "    }\n",
       "\n",
       "    .dataframe tbody tr th {\n",
       "        vertical-align: top;\n",
       "    }\n",
       "\n",
       "    .dataframe thead th {\n",
       "        text-align: right;\n",
       "    }\n",
       "</style>\n",
       "<table border=\"1\" class=\"dataframe\">\n",
       "  <thead>\n",
       "    <tr style=\"text-align: right;\">\n",
       "      <th></th>\n",
       "      <th>Names</th>\n",
       "      <th>age</th>\n",
       "      <th>phone number</th>\n",
       "    </tr>\n",
       "  </thead>\n",
       "  <tbody>\n",
       "    <tr>\n",
       "      <th>a</th>\n",
       "      <td>Mallesh</td>\n",
       "      <td>34</td>\n",
       "      <td>987654321</td>\n",
       "    </tr>\n",
       "    <tr>\n",
       "      <th>b</th>\n",
       "      <td>chinna</td>\n",
       "      <td>2</td>\n",
       "      <td>1234567890</td>\n",
       "    </tr>\n",
       "    <tr>\n",
       "      <th>c</th>\n",
       "      <td>ameen</td>\n",
       "      <td>456</td>\n",
       "      <td>98765432123456</td>\n",
       "    </tr>\n",
       "  </tbody>\n",
       "</table>\n",
       "</div>"
      ],
      "text/plain": [
       "     Names  age    phone number\n",
       "a  Mallesh   34       987654321\n",
       "b   chinna    2      1234567890\n",
       "c    ameen  456  98765432123456"
      ]
     },
     "execution_count": 10,
     "metadata": {},
     "output_type": "execute_result"
    }
   ],
   "source": [
    "l1=['Mallesh','chinna','ameen']\n",
    "l2=[34,2,456]\n",
    "l3=[987654321,1234567890,98765432123456]\n",
    "cols=['Names','age','phone number']\n",
    "pd.DataFrame(zip(l1,l2,l3),index=['a','b','c'],columns=cols)"
   ]
  },
  {
   "cell_type": "code",
   "execution_count": 11,
   "id": "27872d85-fee6-4c9a-85d0-6c9eb07bbe0c",
   "metadata": {},
   "outputs": [],
   "source": [
    "# steep-5 create a empty dataframe and update the datafram e"
   ]
  },
  {
   "cell_type": "code",
   "execution_count": 12,
   "id": "bb16cad8-15f8-4340-bfa4-56dac2305b81",
   "metadata": {},
   "outputs": [],
   "source": [
    "df=pd.DataFrame()"
   ]
  },
  {
   "cell_type": "code",
   "execution_count": 13,
   "id": "e13fb813-0ded-4fee-8f06-bf082e0244a9",
   "metadata": {},
   "outputs": [
    {
     "data": {
      "text/html": [
       "<div>\n",
       "<style scoped>\n",
       "    .dataframe tbody tr th:only-of-type {\n",
       "        vertical-align: middle;\n",
       "    }\n",
       "\n",
       "    .dataframe tbody tr th {\n",
       "        vertical-align: top;\n",
       "    }\n",
       "\n",
       "    .dataframe thead th {\n",
       "        text-align: right;\n",
       "    }\n",
       "</style>\n",
       "<table border=\"1\" class=\"dataframe\">\n",
       "  <thead>\n",
       "    <tr style=\"text-align: right;\">\n",
       "      <th></th>\n",
       "    </tr>\n",
       "  </thead>\n",
       "  <tbody>\n",
       "  </tbody>\n",
       "</table>\n",
       "</div>"
      ],
      "text/plain": [
       "Empty DataFrame\n",
       "Columns: []\n",
       "Index: []"
      ]
     },
     "execution_count": 13,
     "metadata": {},
     "output_type": "execute_result"
    }
   ],
   "source": [
    "df"
   ]
  },
  {
   "cell_type": "code",
   "execution_count": 14,
   "id": "906fe153-1ceb-45db-84bc-d641f4e77b3d",
   "metadata": {},
   "outputs": [],
   "source": [
    "df['names']=['ameen','niraj','abdul']"
   ]
  },
  {
   "cell_type": "code",
   "execution_count": 15,
   "id": "47f0793c-ff3e-44d1-8db3-c0af40da78fe",
   "metadata": {},
   "outputs": [
    {
     "data": {
      "text/plain": [
       "0    ameen\n",
       "1    niraj\n",
       "2    abdul\n",
       "Name: names, dtype: object"
      ]
     },
     "execution_count": 15,
     "metadata": {},
     "output_type": "execute_result"
    }
   ],
   "source": [
    "df['names']"
   ]
  },
  {
   "cell_type": "code",
   "execution_count": 16,
   "id": "80f84ab5-93a8-4b0e-aeb0-862919949ccb",
   "metadata": {},
   "outputs": [
    {
     "ename": "KeyError",
     "evalue": "'Names'",
     "output_type": "error",
     "traceback": [
      "\u001b[1;31m---------------------------------------------------------------------------\u001b[0m",
      "\u001b[1;31mKeyError\u001b[0m                                  Traceback (most recent call last)",
      "File \u001b[1;32m~\\anaconda3\\Lib\\site-packages\\pandas\\core\\indexes\\base.py:3805\u001b[0m, in \u001b[0;36mIndex.get_loc\u001b[1;34m(self, key)\u001b[0m\n\u001b[0;32m   3804\u001b[0m \u001b[38;5;28;01mtry\u001b[39;00m:\n\u001b[1;32m-> 3805\u001b[0m     \u001b[38;5;28;01mreturn\u001b[39;00m \u001b[38;5;28mself\u001b[39m\u001b[38;5;241m.\u001b[39m_engine\u001b[38;5;241m.\u001b[39mget_loc(casted_key)\n\u001b[0;32m   3806\u001b[0m \u001b[38;5;28;01mexcept\u001b[39;00m \u001b[38;5;167;01mKeyError\u001b[39;00m \u001b[38;5;28;01mas\u001b[39;00m err:\n",
      "File \u001b[1;32mindex.pyx:167\u001b[0m, in \u001b[0;36mpandas._libs.index.IndexEngine.get_loc\u001b[1;34m()\u001b[0m\n",
      "File \u001b[1;32mindex.pyx:196\u001b[0m, in \u001b[0;36mpandas._libs.index.IndexEngine.get_loc\u001b[1;34m()\u001b[0m\n",
      "File \u001b[1;32mpandas\\\\_libs\\\\hashtable_class_helper.pxi:7081\u001b[0m, in \u001b[0;36mpandas._libs.hashtable.PyObjectHashTable.get_item\u001b[1;34m()\u001b[0m\n",
      "File \u001b[1;32mpandas\\\\_libs\\\\hashtable_class_helper.pxi:7089\u001b[0m, in \u001b[0;36mpandas._libs.hashtable.PyObjectHashTable.get_item\u001b[1;34m()\u001b[0m\n",
      "\u001b[1;31mKeyError\u001b[0m: 'Names'",
      "\nThe above exception was the direct cause of the following exception:\n",
      "\u001b[1;31mKeyError\u001b[0m                                  Traceback (most recent call last)",
      "Cell \u001b[1;32mIn[16], line 1\u001b[0m\n\u001b[1;32m----> 1\u001b[0m df[\u001b[38;5;124m'\u001b[39m\u001b[38;5;124mNames\u001b[39m\u001b[38;5;124m'\u001b[39m]\n",
      "File \u001b[1;32m~\\anaconda3\\Lib\\site-packages\\pandas\\core\\frame.py:4102\u001b[0m, in \u001b[0;36mDataFrame.__getitem__\u001b[1;34m(self, key)\u001b[0m\n\u001b[0;32m   4100\u001b[0m \u001b[38;5;28;01mif\u001b[39;00m \u001b[38;5;28mself\u001b[39m\u001b[38;5;241m.\u001b[39mcolumns\u001b[38;5;241m.\u001b[39mnlevels \u001b[38;5;241m>\u001b[39m \u001b[38;5;241m1\u001b[39m:\n\u001b[0;32m   4101\u001b[0m     \u001b[38;5;28;01mreturn\u001b[39;00m \u001b[38;5;28mself\u001b[39m\u001b[38;5;241m.\u001b[39m_getitem_multilevel(key)\n\u001b[1;32m-> 4102\u001b[0m indexer \u001b[38;5;241m=\u001b[39m \u001b[38;5;28mself\u001b[39m\u001b[38;5;241m.\u001b[39mcolumns\u001b[38;5;241m.\u001b[39mget_loc(key)\n\u001b[0;32m   4103\u001b[0m \u001b[38;5;28;01mif\u001b[39;00m is_integer(indexer):\n\u001b[0;32m   4104\u001b[0m     indexer \u001b[38;5;241m=\u001b[39m [indexer]\n",
      "File \u001b[1;32m~\\anaconda3\\Lib\\site-packages\\pandas\\core\\indexes\\base.py:3812\u001b[0m, in \u001b[0;36mIndex.get_loc\u001b[1;34m(self, key)\u001b[0m\n\u001b[0;32m   3807\u001b[0m     \u001b[38;5;28;01mif\u001b[39;00m \u001b[38;5;28misinstance\u001b[39m(casted_key, \u001b[38;5;28mslice\u001b[39m) \u001b[38;5;129;01mor\u001b[39;00m (\n\u001b[0;32m   3808\u001b[0m         \u001b[38;5;28misinstance\u001b[39m(casted_key, abc\u001b[38;5;241m.\u001b[39mIterable)\n\u001b[0;32m   3809\u001b[0m         \u001b[38;5;129;01mand\u001b[39;00m \u001b[38;5;28many\u001b[39m(\u001b[38;5;28misinstance\u001b[39m(x, \u001b[38;5;28mslice\u001b[39m) \u001b[38;5;28;01mfor\u001b[39;00m x \u001b[38;5;129;01min\u001b[39;00m casted_key)\n\u001b[0;32m   3810\u001b[0m     ):\n\u001b[0;32m   3811\u001b[0m         \u001b[38;5;28;01mraise\u001b[39;00m InvalidIndexError(key)\n\u001b[1;32m-> 3812\u001b[0m     \u001b[38;5;28;01mraise\u001b[39;00m \u001b[38;5;167;01mKeyError\u001b[39;00m(key) \u001b[38;5;28;01mfrom\u001b[39;00m \u001b[38;5;21;01merr\u001b[39;00m\n\u001b[0;32m   3813\u001b[0m \u001b[38;5;28;01mexcept\u001b[39;00m \u001b[38;5;167;01mTypeError\u001b[39;00m:\n\u001b[0;32m   3814\u001b[0m     \u001b[38;5;66;03m# If we have a listlike key, _check_indexing_error will raise\u001b[39;00m\n\u001b[0;32m   3815\u001b[0m     \u001b[38;5;66;03m#  InvalidIndexError. Otherwise we fall through and re-raise\u001b[39;00m\n\u001b[0;32m   3816\u001b[0m     \u001b[38;5;66;03m#  the TypeError.\u001b[39;00m\n\u001b[0;32m   3817\u001b[0m     \u001b[38;5;28mself\u001b[39m\u001b[38;5;241m.\u001b[39m_check_indexing_error(key)\n",
      "\u001b[1;31mKeyError\u001b[0m: 'Names'"
     ]
    }
   ],
   "source": [
    "df['Names']"
   ]
  },
  {
   "cell_type": "code",
   "execution_count": null,
   "id": "91c0bfe3-5f89-4610-908a-d6b1fac85689",
   "metadata": {},
   "outputs": [],
   "source": [
    "df"
   ]
  },
  {
   "cell_type": "code",
   "execution_count": null,
   "id": "bb2f5ded-480d-40ac-b820-6681e2359e4c",
   "metadata": {},
   "outputs": [],
   "source": [
    "df['age']=[12,123,1234]"
   ]
  },
  {
   "cell_type": "code",
   "execution_count": null,
   "id": "3c7a0c37-f81f-48a7-b1d4-eeadc6d5d6fc",
   "metadata": {},
   "outputs": [],
   "source": [
    "df['age']"
   ]
  },
  {
   "cell_type": "code",
   "execution_count": null,
   "id": "b7733d40-678a-4f40-b2ad-c1ea8ccb6b03",
   "metadata": {},
   "outputs": [],
   "source": [
    "df"
   ]
  },
  {
   "cell_type": "code",
   "execution_count": null,
   "id": "925b5730-9654-4858-be07-af69a6cd0583",
   "metadata": {},
   "outputs": [],
   "source": [
    "df['city']=['hyderabad','cheeennaii','kashmir']\n",
    "df['city']"
   ]
  },
  {
   "cell_type": "code",
   "execution_count": null,
   "id": "dc4e5544-3b59-48c6-8e7a-2afb0f09b13d",
   "metadata": {},
   "outputs": [],
   "source": [
    "\n",
    "df"
   ]
  },
  {
   "cell_type": "code",
   "execution_count": null,
   "id": "baf5e73a-99ab-49dd-ad59-6370205b0c18",
   "metadata": {},
   "outputs": [],
   "source": [
    "df['Age'] = [23,4,56789]"
   ]
  },
  {
   "cell_type": "code",
   "execution_count": null,
   "id": "667c8b2e-f612-4522-aac9-24305e416285",
   "metadata": {},
   "outputs": [],
   "source": [
    "df"
   ]
  },
  {
   "cell_type": "code",
   "execution_count": null,
   "id": "7f82749c-6349-4b75-bc7d-68e2a44f6487",
   "metadata": {},
   "outputs": [],
   "source": [
    "df"
   ]
  },
  {
   "cell_type": "markdown",
   "id": "32b7d7a0-0b85-4b27-a680-55fb042a6c32",
   "metadata": {},
   "source": [
    "#  drop the column"
   ]
  },
  {
   "cell_type": "code",
   "execution_count": null,
   "id": "29fd734e-4486-4941-906a-ec6bf43e1b16",
   "metadata": {},
   "outputs": [],
   "source": [
    "df.drop()"
   ]
  },
  {
   "cell_type": "markdown",
   "id": "036c46a4-53bd-4a03-bd55-84b466b676b9",
   "metadata": {},
   "source": [
    "- labels: 'IndexLabel | None' = None,\n",
    "    -  *,\n",
    "    - axis: 'Axis' = 0,\n",
    "    - index: 'IndexLabel | None' = None,\n",
    "    - columns: 'IndexLabel | None' = None,\n",
    "    - level: 'Level | None' = None,\n",
    "    - inplace: 'bool' = False,\n",
    "    - errors: 'IgnoreRaise' = 'raise',\n",
    ") -> 'DataFrame | None"
   ]
  },
  {
   "cell_type": "code",
   "execution_count": null,
   "id": "188cb950-398c-4217-a8c0-8e78a82215e0",
   "metadata": {},
   "outputs": [],
   "source": [
    "df.drop(2, axis=0)  # works on row"
   ]
  },
  {
   "cell_type": "code",
   "execution_count": null,
   "id": "1fa64b65-6b66-40be-b2ff-57e578c28614",
   "metadata": {},
   "outputs": [],
   "source": [
    "df"
   ]
  },
  {
   "cell_type": "code",
   "execution_count": null,
   "id": "1456e66d-43a6-4a4f-8ccc-f6c9bd3a85fc",
   "metadata": {},
   "outputs": [],
   "source": [
    "df.drop([1,2])"
   ]
  },
  {
   "cell_type": "code",
   "execution_count": null,
   "id": "cd38354f-4d69-476c-8810-d06321c73b3a",
   "metadata": {},
   "outputs": [],
   "source": [
    "df"
   ]
  },
  {
   "cell_type": "code",
   "execution_count": null,
   "id": "325ad5c1-2ef3-4f27-823e-e6592683d2fc",
   "metadata": {},
   "outputs": [],
   "source": [
    "df.drop('age',axis=1)  # works on columns\n"
   ]
  },
  {
   "cell_type": "code",
   "execution_count": null,
   "id": "9746f9af-b5e1-4ef8-a0c9-a55931dd8bea",
   "metadata": {},
   "outputs": [],
   "source": [
    "df"
   ]
  },
  {
   "cell_type": "code",
   "execution_count": null,
   "id": "cee6ee62-3fa9-4e6f-ae93-4916946fd875",
   "metadata": {},
   "outputs": [],
   "source": [
    "df.drop(['Age','city'],axis=1)"
   ]
  },
  {
   "cell_type": "code",
   "execution_count": null,
   "id": "23842ab7-4643-46dd-8ed4-f1ab2d1b5a2d",
   "metadata": {},
   "outputs": [],
   "source": [
    "df"
   ]
  },
  {
   "cell_type": "code",
   "execution_count": null,
   "id": "13590770-44ae-45cf-aebb-52bd9180b3af",
   "metadata": {},
   "outputs": [],
   "source": [
    "df.drop(index=2)"
   ]
  },
  {
   "cell_type": "code",
   "execution_count": null,
   "id": "44437078-5b8a-41ad-a0b3-6cca883e0c50",
   "metadata": {},
   "outputs": [],
   "source": [
    "df.drop(index=0)"
   ]
  },
  {
   "cell_type": "code",
   "execution_count": null,
   "id": "02e2294e-16c8-4f94-a662-20e48755543c",
   "metadata": {},
   "outputs": [],
   "source": [
    "df.drop(columns='Age')"
   ]
  },
  {
   "cell_type": "code",
   "execution_count": null,
   "id": "82a08f0a-bc62-4055-bd75-331e3d6dbb9d",
   "metadata": {},
   "outputs": [],
   "source": [
    "df.drop('Age',axis=1, inplace=True)"
   ]
  },
  {
   "cell_type": "code",
   "execution_count": null,
   "id": "2359ff53-cace-4a6f-947d-61dedb962fd2",
   "metadata": {},
   "outputs": [],
   "source": [
    "df"
   ]
  },
  {
   "cell_type": "code",
   "execution_count": null,
   "id": "89b82c4a-25ce-43ca-be8b-908fba1efb18",
   "metadata": {},
   "outputs": [],
   "source": [
    "df"
   ]
  },
  {
   "cell_type": "code",
   "execution_count": null,
   "id": "e58bbe82-30d2-4539-979a-54cc2381242d",
   "metadata": {},
   "outputs": [],
   "source": [
    "df"
   ]
  },
  {
   "cell_type": "code",
   "execution_count": null,
   "id": "1c77b3a3-8a0f-4470-9aff-ce7b7b71a71d",
   "metadata": {},
   "outputs": [],
   "source": [
    "df.columns(['names','age'], object)"
   ]
  },
  {
   "cell_type": "code",
   "execution_count": 18,
   "id": "1d662037-f42e-4c05-a271-17b5762d4177",
   "metadata": {},
   "outputs": [
    {
     "data": {
      "text/plain": [
       "30"
      ]
     },
     "execution_count": 18,
     "metadata": {},
     "output_type": "execute_result"
    }
   ],
   "source": [
    "a=10\n",
    "b=20\n",
    "c=a+b\n",
    "c"
   ]
  },
  {
   "cell_type": "code",
   "execution_count": null,
   "id": "e0b9e348-2ffc-4a00-8bad-7fc5821b260d",
   "metadata": {},
   "outputs": [],
   "source": []
  }
 ],
 "metadata": {
  "kernelspec": {
   "display_name": "Python 3 (ipykernel)",
   "language": "python",
   "name": "python3"
  },
  "language_info": {
   "codemirror_mode": {
    "name": "ipython",
    "version": 3
   },
   "file_extension": ".py",
   "mimetype": "text/x-python",
   "name": "python",
   "nbconvert_exporter": "python",
   "pygments_lexer": "ipython3",
   "version": "3.12.7"
  }
 },
 "nbformat": 4,
 "nbformat_minor": 5
}
