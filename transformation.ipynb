{
 "cells": [
  {
   "cell_type": "code",
   "execution_count": 1,
   "id": "52cfd45f-639c-4bb6-b411-607d5ba9231e",
   "metadata": {},
   "outputs": [],
   "source": [
    "import numpy as np\n",
    "import pandas as pd\n",
    "import matplotlib.pyplot as plt\n",
    "import seaborn as sns"
   ]
  },
  {
   "cell_type": "code",
   "execution_count": null,
   "id": "a312fb9f-d927-4a83-997a-9fcc8e29c07e",
   "metadata": {},
   "outputs": [],
   "source": [
    "file_path=r'C:\\Users\\Admin\\Downloads\\Visadataset.csv'"
   ]
  },
  {
   "cell_type": "code",
   "execution_count": null,
   "id": "b3867ec6-5d85-4084-af7c-6eb11cee6ded",
   "metadata": {},
   "outputs": [],
   "source": []
  }
 ],
 "metadata": {
  "kernelspec": {
   "display_name": "Python 3 (ipykernel)",
   "language": "python",
   "name": "python3"
  },
  "language_info": {
   "codemirror_mode": {
    "name": "ipython",
    "version": 3
   },
   "file_extension": ".py",
   "mimetype": "text/x-python",
   "name": "python",
   "nbconvert_exporter": "python",
   "pygments_lexer": "ipython3",
   "version": "3.12.7"
  }
 },
 "nbformat": 4,
 "nbformat_minor": 5
}
